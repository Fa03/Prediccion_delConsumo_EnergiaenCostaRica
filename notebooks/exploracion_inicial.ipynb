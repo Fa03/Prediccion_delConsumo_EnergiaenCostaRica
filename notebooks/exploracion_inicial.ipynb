{
 "cells": [
  {
   "metadata": {},
   "cell_type": "markdown",
   "source": [
    "<hr>\n",
    "<p style=\"text-align: center;\">\n",
    "  <img src=\"https://encrypted-tbn0.gstatic.com/images?q=tbn:ANd9GcT3KhGzNLk1MLxTIIwrj_9n4GZnekdkDWR8bw&s\" width=\"105\"/>\n",
    "</p>\n",
    "\n",
    "<p style=\"text-align: center;\">\n",
    "  <strong>Colegio Universitario de Cartago</strong><br>\n",
    "  II Cuatrimestre 2025<br>\n",
    "  <strong>BIG DATA</strong><br>\n",
    "  Programación II<br>\n",
    "  BD-143<br><br>\n",
    "\n",
    "  <strong style=\"font-size: 18px;\">Proyecto Final</strong><br>\n",
    "  <strong>Predicción del Consumo de Energía en Costa Rica</strong><br><br>\n",
    "\n",
    "  Nombre Docente: Osvaldo Gonzalez<br>\n",
    "  Nombre Estudiante: Fabián Brenes Loría<br>\n",
    "  Carné: 303650023<br>\n",
    "  Fecha: 20-8-2025\n",
    "</p>\n",
    "<hr>"
   ],
   "id": "1faace62f23cf8f9"
  },
  {
   "metadata": {},
   "cell_type": "code",
   "outputs": [],
   "execution_count": null,
   "source": "",
   "id": "b4317a07d74bfa92"
  }
 ],
 "metadata": {
  "kernelspec": {
   "display_name": "Python 3",
   "language": "python",
   "name": "python3"
  },
  "language_info": {
   "codemirror_mode": {
    "name": "ipython",
    "version": 2
   },
   "file_extension": ".py",
   "mimetype": "text/x-python",
   "name": "python",
   "nbconvert_exporter": "python",
   "pygments_lexer": "ipython2",
   "version": "2.7.6"
  }
 },
 "nbformat": 4,
 "nbformat_minor": 5
}
